{
 "cells": [
  {
   "cell_type": "markdown",
   "metadata": {},
   "source": [
    "Realizando uma análise dos dados"
   ]
  },
  {
   "cell_type": "code",
   "execution_count": null,
   "metadata": {},
   "outputs": [
    {
     "name": "stdout",
     "output_type": "stream",
     "text": [
      "Note: you may need to restart the kernel to use updated packages.\n"
     ]
    },
    {
     "name": "stderr",
     "output_type": "stream",
     "text": [
      "ERROR: Invalid requirement: '#bibliotecas'\n",
      "\n",
      "[notice] A new release of pip is available: 24.0 -> 25.0.1\n",
      "[notice] To update, run: C:\\Users\\deise\\AppData\\Local\\Microsoft\\WindowsApps\\PythonSoftwareFoundation.Python.3.11_qbz5n2kfra8p0\\python.exe -m pip install --upgrade pip\n"
     ]
    }
   ],
   "source": [
    "pip install pandas numpy matplotlib scipy seaborn\n"
   ]
  },
  {
   "cell_type": "code",
   "execution_count": null,
   "metadata": {},
   "outputs": [],
   "source": [
    "import pandas as pd\n",
    "import numpy as np\n",
    "import matplotlib.pyplot as plt\n",
    "import seaborn as sns\n",
    "from scipy.stats import stats, norm, binom"
   ]
  },
  {
   "cell_type": "code",
   "execution_count": 22,
   "metadata": {},
   "outputs": [
    {
     "data": {
      "text/html": [
       "<div>\n",
       "<style scoped>\n",
       "    .dataframe tbody tr th:only-of-type {\n",
       "        vertical-align: middle;\n",
       "    }\n",
       "\n",
       "    .dataframe tbody tr th {\n",
       "        vertical-align: top;\n",
       "    }\n",
       "\n",
       "    .dataframe thead th {\n",
       "        text-align: right;\n",
       "    }\n",
       "</style>\n",
       "<table border=\"1\" class=\"dataframe\">\n",
       "  <thead>\n",
       "    <tr style=\"text-align: right;\">\n",
       "      <th></th>\n",
       "      <th>Unnamed: 0</th>\n",
       "      <th>estado</th>\n",
       "      <th>idade</th>\n",
       "      <th>escolaridade</th>\n",
       "      <th>nível de proficiência em inglês</th>\n",
       "      <th>renda</th>\n",
       "      <th>sexo</th>\n",
       "    </tr>\n",
       "  </thead>\n",
       "  <tbody>\n",
       "    <tr>\n",
       "      <th>0</th>\n",
       "      <td>0</td>\n",
       "      <td>MA</td>\n",
       "      <td>56</td>\n",
       "      <td>Fundamental</td>\n",
       "      <td>Intermediário</td>\n",
       "      <td>4006.29</td>\n",
       "      <td>F</td>\n",
       "    </tr>\n",
       "    <tr>\n",
       "      <th>1</th>\n",
       "      <td>1</td>\n",
       "      <td>BA</td>\n",
       "      <td>46</td>\n",
       "      <td>Superior</td>\n",
       "      <td>Básico</td>\n",
       "      <td>2423.11</td>\n",
       "      <td>M</td>\n",
       "    </tr>\n",
       "    <tr>\n",
       "      <th>2</th>\n",
       "      <td>2</td>\n",
       "      <td>AM</td>\n",
       "      <td>32</td>\n",
       "      <td>Fundamental</td>\n",
       "      <td>Intermediário</td>\n",
       "      <td>3835.69</td>\n",
       "      <td>M</td>\n",
       "    </tr>\n",
       "    <tr>\n",
       "      <th>3</th>\n",
       "      <td>3</td>\n",
       "      <td>CE</td>\n",
       "      <td>60</td>\n",
       "      <td>Superior</td>\n",
       "      <td>Básico</td>\n",
       "      <td>1870.29</td>\n",
       "      <td>M</td>\n",
       "    </tr>\n",
       "    <tr>\n",
       "      <th>4</th>\n",
       "      <td>4</td>\n",
       "      <td>SE</td>\n",
       "      <td>25</td>\n",
       "      <td>Fundamental</td>\n",
       "      <td>Avançado</td>\n",
       "      <td>3529.80</td>\n",
       "      <td>M</td>\n",
       "    </tr>\n",
       "    <tr>\n",
       "      <th>5</th>\n",
       "      <td>5</td>\n",
       "      <td>AM</td>\n",
       "      <td>38</td>\n",
       "      <td>Fundamental</td>\n",
       "      <td>Avançado</td>\n",
       "      <td>4441.57</td>\n",
       "      <td>F</td>\n",
       "    </tr>\n",
       "    <tr>\n",
       "      <th>6</th>\n",
       "      <td>6</td>\n",
       "      <td>DF</td>\n",
       "      <td>56</td>\n",
       "      <td>Médio</td>\n",
       "      <td>Intermediário</td>\n",
       "      <td>528.36</td>\n",
       "      <td>F</td>\n",
       "    </tr>\n",
       "    <tr>\n",
       "      <th>7</th>\n",
       "      <td>7</td>\n",
       "      <td>DF</td>\n",
       "      <td>36</td>\n",
       "      <td>Superior</td>\n",
       "      <td>Avançado</td>\n",
       "      <td>2203.10</td>\n",
       "      <td>F</td>\n",
       "    </tr>\n",
       "    <tr>\n",
       "      <th>8</th>\n",
       "      <td>8</td>\n",
       "      <td>PI</td>\n",
       "      <td>40</td>\n",
       "      <td>Fundamental</td>\n",
       "      <td>Básico</td>\n",
       "      <td>3577.07</td>\n",
       "      <td>F</td>\n",
       "    </tr>\n",
       "    <tr>\n",
       "      <th>9</th>\n",
       "      <td>9</td>\n",
       "      <td>AP</td>\n",
       "      <td>28</td>\n",
       "      <td>Superior</td>\n",
       "      <td>Avançado</td>\n",
       "      <td>2796.95</td>\n",
       "      <td>M</td>\n",
       "    </tr>\n",
       "  </tbody>\n",
       "</table>\n",
       "</div>"
      ],
      "text/plain": [
       "   Unnamed: 0 estado  idade escolaridade nível de proficiência em inglês  \\\n",
       "0           0     MA     56  Fundamental                   Intermediário   \n",
       "1           1     BA     46     Superior                          Básico   \n",
       "2           2     AM     32  Fundamental                   Intermediário   \n",
       "3           3     CE     60     Superior                          Básico   \n",
       "4           4     SE     25  Fundamental                        Avançado   \n",
       "5           5     AM     38  Fundamental                        Avançado   \n",
       "6           6     DF     56        Médio                   Intermediário   \n",
       "7           7     DF     36     Superior                        Avançado   \n",
       "8           8     PI     40  Fundamental                          Básico   \n",
       "9           9     AP     28     Superior                        Avançado   \n",
       "\n",
       "     renda sexo  \n",
       "0  4006.29    F  \n",
       "1  2423.11    M  \n",
       "2  3835.69    M  \n",
       "3  1870.29    M  \n",
       "4  3529.80    M  \n",
       "5  4441.57    F  \n",
       "6   528.36    F  \n",
       "7  2203.10    F  \n",
       "8  3577.07    F  \n",
       "9  2796.95    M  "
      ]
     },
     "execution_count": 22,
     "metadata": {},
     "output_type": "execute_result"
    }
   ],
   "source": [
    "df = pd.read_csv('populacao_brasileira.csv')\n",
    "df.head(10)"
   ]
  },
  {
   "cell_type": "code",
   "execution_count": null,
   "metadata": {},
   "outputs": [
    {
     "data": {
      "text/plain": [
       "(1000, 7)"
      ]
     },
     "execution_count": 23,
     "metadata": {},
     "output_type": "execute_result"
    }
   ],
   "source": [
    "df.shape"
   ]
  },
  {
   "cell_type": "code",
   "execution_count": null,
   "metadata": {},
   "outputs": [
    {
     "data": {
      "text/html": [
       "<div>\n",
       "<style scoped>\n",
       "    .dataframe tbody tr th:only-of-type {\n",
       "        vertical-align: middle;\n",
       "    }\n",
       "\n",
       "    .dataframe tbody tr th {\n",
       "        vertical-align: top;\n",
       "    }\n",
       "\n",
       "    .dataframe thead th {\n",
       "        text-align: right;\n",
       "    }\n",
       "</style>\n",
       "<table border=\"1\" class=\"dataframe\">\n",
       "  <thead>\n",
       "    <tr style=\"text-align: right;\">\n",
       "      <th></th>\n",
       "      <th>Unnamed: 0</th>\n",
       "      <th>estado</th>\n",
       "      <th>idade</th>\n",
       "      <th>escolaridade</th>\n",
       "      <th>nível de proficiência em inglês</th>\n",
       "      <th>renda</th>\n",
       "      <th>sexo</th>\n",
       "    </tr>\n",
       "  </thead>\n",
       "  <tbody>\n",
       "    <tr>\n",
       "      <th>990</th>\n",
       "      <td>990</td>\n",
       "      <td>TO</td>\n",
       "      <td>60</td>\n",
       "      <td>Fundamental</td>\n",
       "      <td>Intermediário</td>\n",
       "      <td>2511.15</td>\n",
       "      <td>M</td>\n",
       "    </tr>\n",
       "    <tr>\n",
       "      <th>991</th>\n",
       "      <td>991</td>\n",
       "      <td>RO</td>\n",
       "      <td>20</td>\n",
       "      <td>Superior</td>\n",
       "      <td>Avançado</td>\n",
       "      <td>1880.38</td>\n",
       "      <td>F</td>\n",
       "    </tr>\n",
       "    <tr>\n",
       "      <th>992</th>\n",
       "      <td>992</td>\n",
       "      <td>DF</td>\n",
       "      <td>50</td>\n",
       "      <td>Pós-graduação</td>\n",
       "      <td>Básico</td>\n",
       "      <td>3140.89</td>\n",
       "      <td>F</td>\n",
       "    </tr>\n",
       "    <tr>\n",
       "      <th>993</th>\n",
       "      <td>993</td>\n",
       "      <td>RS</td>\n",
       "      <td>23</td>\n",
       "      <td>Superior</td>\n",
       "      <td>Avançado</td>\n",
       "      <td>1231.56</td>\n",
       "      <td>M</td>\n",
       "    </tr>\n",
       "    <tr>\n",
       "      <th>994</th>\n",
       "      <td>994</td>\n",
       "      <td>DF</td>\n",
       "      <td>27</td>\n",
       "      <td>Pós-graduação</td>\n",
       "      <td>Avançado</td>\n",
       "      <td>3323.17</td>\n",
       "      <td>F</td>\n",
       "    </tr>\n",
       "    <tr>\n",
       "      <th>995</th>\n",
       "      <td>995</td>\n",
       "      <td>AC</td>\n",
       "      <td>22</td>\n",
       "      <td>Médio</td>\n",
       "      <td>Básico</td>\n",
       "      <td>2852.40</td>\n",
       "      <td>F</td>\n",
       "    </tr>\n",
       "    <tr>\n",
       "      <th>996</th>\n",
       "      <td>996</td>\n",
       "      <td>PE</td>\n",
       "      <td>40</td>\n",
       "      <td>Fundamental</td>\n",
       "      <td>Básico</td>\n",
       "      <td>2533.96</td>\n",
       "      <td>M</td>\n",
       "    </tr>\n",
       "    <tr>\n",
       "      <th>997</th>\n",
       "      <td>997</td>\n",
       "      <td>GO</td>\n",
       "      <td>27</td>\n",
       "      <td>Pós-graduação</td>\n",
       "      <td>Intermediário</td>\n",
       "      <td>1405.30</td>\n",
       "      <td>F</td>\n",
       "    </tr>\n",
       "    <tr>\n",
       "      <th>998</th>\n",
       "      <td>998</td>\n",
       "      <td>RS</td>\n",
       "      <td>61</td>\n",
       "      <td>Fundamental</td>\n",
       "      <td>Avançado</td>\n",
       "      <td>3513.60</td>\n",
       "      <td>F</td>\n",
       "    </tr>\n",
       "    <tr>\n",
       "      <th>999</th>\n",
       "      <td>999</td>\n",
       "      <td>MG</td>\n",
       "      <td>19</td>\n",
       "      <td>Superior</td>\n",
       "      <td>Intermediário</td>\n",
       "      <td>2467.30</td>\n",
       "      <td>F</td>\n",
       "    </tr>\n",
       "  </tbody>\n",
       "</table>\n",
       "</div>"
      ],
      "text/plain": [
       "     Unnamed: 0 estado  idade   escolaridade nível de proficiência em inglês  \\\n",
       "990         990     TO     60    Fundamental                   Intermediário   \n",
       "991         991     RO     20       Superior                        Avançado   \n",
       "992         992     DF     50  Pós-graduação                          Básico   \n",
       "993         993     RS     23       Superior                        Avançado   \n",
       "994         994     DF     27  Pós-graduação                        Avançado   \n",
       "995         995     AC     22          Médio                          Básico   \n",
       "996         996     PE     40    Fundamental                          Básico   \n",
       "997         997     GO     27  Pós-graduação                   Intermediário   \n",
       "998         998     RS     61    Fundamental                        Avançado   \n",
       "999         999     MG     19       Superior                   Intermediário   \n",
       "\n",
       "       renda sexo  \n",
       "990  2511.15    M  \n",
       "991  1880.38    F  \n",
       "992  3140.89    F  \n",
       "993  1231.56    M  \n",
       "994  3323.17    F  \n",
       "995  2852.40    F  \n",
       "996  2533.96    M  \n",
       "997  1405.30    F  \n",
       "998  3513.60    F  \n",
       "999  2467.30    F  "
      ]
     },
     "execution_count": 24,
     "metadata": {},
     "output_type": "execute_result"
    }
   ],
   "source": [
    "df.tail(10)"
   ]
  },
  {
   "cell_type": "code",
   "execution_count": null,
   "metadata": {},
   "outputs": [
    {
     "data": {
      "text/plain": [
       "Unnamed: 0                           int64\n",
       "estado                              object\n",
       "idade                                int64\n",
       "escolaridade                        object\n",
       "nível de proficiência em inglês     object\n",
       "renda                              float64\n",
       "sexo                                object\n",
       "dtype: object"
      ]
     },
     "execution_count": 25,
     "metadata": {},
     "output_type": "execute_result"
    }
   ],
   "source": [
    "df.dtypes"
   ]
  },
  {
   "cell_type": "code",
   "execution_count": null,
   "metadata": {},
   "outputs": [
    {
     "name": "stdout",
     "output_type": "stream",
     "text": [
      "A coluna 'Individuo' não foi encontrada no DataFrame.\n"
     ]
    },
    {
     "data": {
      "text/html": [
       "<div>\n",
       "<style scoped>\n",
       "    .dataframe tbody tr th:only-of-type {\n",
       "        vertical-align: middle;\n",
       "    }\n",
       "\n",
       "    .dataframe tbody tr th {\n",
       "        vertical-align: top;\n",
       "    }\n",
       "\n",
       "    .dataframe thead th {\n",
       "        text-align: right;\n",
       "    }\n",
       "</style>\n",
       "<table border=\"1\" class=\"dataframe\">\n",
       "  <thead>\n",
       "    <tr style=\"text-align: right;\">\n",
       "      <th></th>\n",
       "      <th>estado</th>\n",
       "      <th>idade</th>\n",
       "      <th>escolaridade</th>\n",
       "      <th>nível de proficiência em inglês</th>\n",
       "      <th>renda</th>\n",
       "      <th>sexo</th>\n",
       "    </tr>\n",
       "    <tr>\n",
       "      <th>Individuo</th>\n",
       "      <th></th>\n",
       "      <th></th>\n",
       "      <th></th>\n",
       "      <th></th>\n",
       "      <th></th>\n",
       "      <th></th>\n",
       "    </tr>\n",
       "  </thead>\n",
       "  <tbody>\n",
       "    <tr>\n",
       "      <th>0</th>\n",
       "      <td>MA</td>\n",
       "      <td>56</td>\n",
       "      <td>Fundamental</td>\n",
       "      <td>Intermediário</td>\n",
       "      <td>4006.29</td>\n",
       "      <td>F</td>\n",
       "    </tr>\n",
       "    <tr>\n",
       "      <th>1</th>\n",
       "      <td>BA</td>\n",
       "      <td>46</td>\n",
       "      <td>Superior</td>\n",
       "      <td>Básico</td>\n",
       "      <td>2423.11</td>\n",
       "      <td>M</td>\n",
       "    </tr>\n",
       "    <tr>\n",
       "      <th>2</th>\n",
       "      <td>AM</td>\n",
       "      <td>32</td>\n",
       "      <td>Fundamental</td>\n",
       "      <td>Intermediário</td>\n",
       "      <td>3835.69</td>\n",
       "      <td>M</td>\n",
       "    </tr>\n",
       "    <tr>\n",
       "      <th>3</th>\n",
       "      <td>CE</td>\n",
       "      <td>60</td>\n",
       "      <td>Superior</td>\n",
       "      <td>Básico</td>\n",
       "      <td>1870.29</td>\n",
       "      <td>M</td>\n",
       "    </tr>\n",
       "    <tr>\n",
       "      <th>4</th>\n",
       "      <td>SE</td>\n",
       "      <td>25</td>\n",
       "      <td>Fundamental</td>\n",
       "      <td>Avançado</td>\n",
       "      <td>3529.80</td>\n",
       "      <td>M</td>\n",
       "    </tr>\n",
       "    <tr>\n",
       "      <th>5</th>\n",
       "      <td>AM</td>\n",
       "      <td>38</td>\n",
       "      <td>Fundamental</td>\n",
       "      <td>Avançado</td>\n",
       "      <td>4441.57</td>\n",
       "      <td>F</td>\n",
       "    </tr>\n",
       "    <tr>\n",
       "      <th>6</th>\n",
       "      <td>DF</td>\n",
       "      <td>56</td>\n",
       "      <td>Médio</td>\n",
       "      <td>Intermediário</td>\n",
       "      <td>528.36</td>\n",
       "      <td>F</td>\n",
       "    </tr>\n",
       "    <tr>\n",
       "      <th>7</th>\n",
       "      <td>DF</td>\n",
       "      <td>36</td>\n",
       "      <td>Superior</td>\n",
       "      <td>Avançado</td>\n",
       "      <td>2203.10</td>\n",
       "      <td>F</td>\n",
       "    </tr>\n",
       "    <tr>\n",
       "      <th>8</th>\n",
       "      <td>PI</td>\n",
       "      <td>40</td>\n",
       "      <td>Fundamental</td>\n",
       "      <td>Básico</td>\n",
       "      <td>3577.07</td>\n",
       "      <td>F</td>\n",
       "    </tr>\n",
       "    <tr>\n",
       "      <th>9</th>\n",
       "      <td>AP</td>\n",
       "      <td>28</td>\n",
       "      <td>Superior</td>\n",
       "      <td>Avançado</td>\n",
       "      <td>2796.95</td>\n",
       "      <td>M</td>\n",
       "    </tr>\n",
       "  </tbody>\n",
       "</table>\n",
       "</div>"
      ],
      "text/plain": [
       "          estado  idade escolaridade nível de proficiência em inglês    renda  \\\n",
       "Individuo                                                                       \n",
       "0             MA     56  Fundamental                   Intermediário  4006.29   \n",
       "1             BA     46     Superior                          Básico  2423.11   \n",
       "2             AM     32  Fundamental                   Intermediário  3835.69   \n",
       "3             CE     60     Superior                          Básico  1870.29   \n",
       "4             SE     25  Fundamental                        Avançado  3529.80   \n",
       "5             AM     38  Fundamental                        Avançado  4441.57   \n",
       "6             DF     56        Médio                   Intermediário   528.36   \n",
       "7             DF     36     Superior                        Avançado  2203.10   \n",
       "8             PI     40  Fundamental                          Básico  3577.07   \n",
       "9             AP     28     Superior                        Avançado  2796.95   \n",
       "\n",
       "          sexo  \n",
       "Individuo       \n",
       "0            F  \n",
       "1            M  \n",
       "2            M  \n",
       "3            M  \n",
       "4            M  \n",
       "5            F  \n",
       "6            F  \n",
       "7            F  \n",
       "8            F  \n",
       "9            M  "
      ]
     },
     "execution_count": 33,
     "metadata": {},
     "output_type": "execute_result"
    }
   ],
   "source": [
    "if 'Unnamed: 0' in df.columns: \n",
    "    df.rename(columns={'Unnamed: 0': 'Individuo'}, inplace=True)\n",
    "\n",
    "if 'Individuo' in df.columns:  \n",
    "    df = df.set_index('Individuo')\n",
    "else:\n",
    "    print(\"A coluna 'Individuo' não foi encontrada no DataFrame.\")\n",
    "    \n",
    "df.head(10)"
   ]
  },
  {
   "cell_type": "markdown",
   "metadata": {},
   "source": [
    "Você é uma pesquisadora desenvolvendo uma análise sobre as características\n",
    " da força de trabalho nos estados brasileiros. Responda as perguntas abaixo:"
   ]
  },
  {
   "cell_type": "markdown",
   "metadata": {},
   "source": [
    " 1. \n",
    "Considere pessoas fluentes em inglês, qual a probabilidade\n",
    " complementar? Ou seja, qual a probabilidade de escolhermos uma pessoa\n",
    " aleatória e ela não ser fluente em inglês. Considere fluente quem tem o\n",
    " nível avançado."
   ]
  },
  {
   "cell_type": "code",
   "execution_count": 95,
   "metadata": {},
   "outputs": [
    {
     "name": "stdout",
     "output_type": "stream",
     "text": [
      "['Intermediário' 'Básico' 'Avançado']\n"
     ]
    }
   ],
   "source": [
    "#Niveis de proficiencia em ingles\n",
    "valores_unicos = df['nível de proficiência em inglês'].unique()\n",
    "print(valores_unicos)"
   ]
  },
  {
   "cell_type": "code",
   "execution_count": 96,
   "metadata": {},
   "outputs": [
    {
     "name": "stdout",
     "output_type": "stream",
     "text": [
      "Probabilidade de não ser fluente em inglês: 65.60%\n"
     ]
    }
   ],
   "source": [
    "#Total de pessoas e quantidade fluentes\n",
    "total_pessoas = len(df)\n",
    "df_fluentes = len(df[df['nível de proficiência em inglês'] == 'Avançado'])\n",
    "\n",
    "# Probabilidade\n",
    "prob_fluente = df_fluentes / total_pessoas\n",
    "\n",
    "# Probabilidade complementar\n",
    "prob_nao_fluente = 1 - prob_fluente\n",
    "print(f\"Probabilidade de não ser fluente em inglês: {prob_nao_fluente:.2%}\")"
   ]
  },
  {
   "cell_type": "markdown",
   "metadata": {},
   "source": [
    " 2. Se uma pessoa escolhida aleatoriamente for de Alagoas ou do Pará, qual\n",
    " é a probabilidade de ela ter uma renda superior a 5 mil reais?"
   ]
  },
  {
   "cell_type": "code",
   "execution_count": 98,
   "metadata": {},
   "outputs": [
    {
     "name": "stdout",
     "output_type": "stream",
     "text": [
      "Probabilidade de uma pessoa de Alagoas ou do Pará ter renda superior a 5 mil reais: 4.29%\n"
     ]
    }
   ],
   "source": [
    "# Total de pessoas em Alagoas e Pará\n",
    "pessoas_al_pa = df[(df['estado'] == 'AL') | (df['estado'] == 'PR')]\n",
    "total_al_pa = len(pessoas_al_pa)\n",
    "\n",
    "# Pessoas em Alagoas e Pará com renda superior a 5 mil reais\n",
    "pessoas_renda_alta = pessoas_al_pa[pessoas_al_pa['renda'] > 5000]\n",
    "total_renda_alta = len(pessoas_renda_alta)\n",
    "\n",
    "# probabilidade\n",
    "probabilidade_pessoas_al_e_pr = total_renda_alta / total_al_pa\n",
    "print(f\"Probabilidade de uma pessoa de Alagoas ou do Pará ter renda superior a 5 mil reais: {probabilidade_pessoas_al_e_pr:.2%}\")"
   ]
  },
  {
   "cell_type": "markdown",
   "metadata": {},
   "source": [
    " 3. Descubra a probabilidade de uma pessoa, residente no estado do\n",
    " Amazonas, ter ensino superior completo (considerando apenas a\n",
    " escolaridade classificada como 'Superior'). Qual a probabilidade da quinta\n",
    " pessoa amazonense que você conversar ter ensino superior completo?"
   ]
  },
  {
   "cell_type": "code",
   "execution_count": null,
   "metadata": {},
   "outputs": [
    {
     "name": "stdout",
     "output_type": "stream",
     "text": [
      "Probabilidade de uma pessoa de Amazonas ter ensino Superior é de: 23.68%\n"
     ]
    }
   ],
   "source": [
    "#Total de pessoas no Amazonas\n",
    "pessoas_am = df[(df['estado'] == 'AM')]\n",
    "total_am = len(pessoas_am)\n",
    "\n",
    "# Pessoas no Amazonas com escolaridade \"Superior\"\n",
    "pessoas_ensino_superior = pessoas_am[pessoas_am['escolaridade'] == 'Superior']\n",
    "total_ensino_superior = len(pessoas_ensino_superior)\n",
    "\n",
    "#probabilidade\n",
    "probabilidade_am = total_ensino_superior / total_am\n",
    "print(f\"Probabilidade de uma pessoa de Amazonas ter ensino Superior é de: {probabilidade_am:.2%}\")"
   ]
  },
  {
   "cell_type": "code",
   "execution_count": null,
   "metadata": {},
   "outputs": [
    {
     "name": "stdout",
     "output_type": "stream",
     "text": [
      "A probabilidade de a quinta pessoa ter ensino Superior é de: 8.03%\n"
     ]
    }
   ],
   "source": [
    "#probabilidade geométrica [ P(X = k) = (1 - p)^{k-1} \\cdot p ]\n",
    "k = 5 # Quinta pessoa\n",
    "prob_quinta_pessoa = ((1 - probabilidade_am) ** (k - 1)) * probabilidade_am\n",
    "print(f\"A probabilidade de a quinta pessoa ter ensino Superior é de: {prob_quinta_pessoa:.2%}\")"
   ]
  },
  {
   "cell_type": "markdown",
   "metadata": {},
   "source": [
    "4. Considerando a renda das pessoas do nosso conjunto, podemos dizer\n",
    " que a renda de uma pessoa brasileira está na sua maioria em que faixa\n",
    " (faça faixa de 1.500 reais)? Qual é a sua função densidade de probabilidade?"
   ]
  },
  {
   "cell_type": "code",
   "execution_count": 102,
   "metadata": {},
   "outputs": [
    {
     "name": "stdout",
     "output_type": "stream",
     "text": [
      "Faixa de renda com maior frequência: 3000.00 a 4500.00 reais\n",
      "Função densidade de probabilidade (PDF):\n",
      "Faixa 0.00 a 1500.00: 0.0550\n",
      "Faixa 1500.00 a 3000.00: 0.4140\n",
      "Faixa 3000.00 a 4500.00: 0.4420\n",
      "Faixa 4500.00 a 6000.00: 0.0890\n"
     ]
    }
   ],
   "source": [
    "#faixas de renda e contar a frequencia\n",
    "bins = np.arange(0, df['renda'].max() + 1500, 1500)  \n",
    "frequencia, limites = np.histogram(df['renda'], bins=bins)\n",
    "\n",
    "#faixa com a maior frequência\n",
    "indice_moda = np.argmax(frequencia)  \n",
    "faixa_moda = (limites[indice_moda], limites[indice_moda + 1])\n",
    "print(f\"Faixa de renda com maior frequência: {faixa_moda[0]:.2f} a {faixa_moda[1]:.2f} reais\")\n",
    "\n",
    "#função densidade de probabilidade (PDF)\n",
    "densidade = frequencia / frequencia.sum()\n",
    "print(\"Função densidade de probabilidade (PDF):\")\n",
    "for i in range(len(densidade)):\n",
    "    print(f\"Faixa {limites[i]:.2f} a {limites[i+1]:.2f}: {densidade[i]:.4f}\")"
   ]
  },
  {
   "cell_type": "markdown",
   "metadata": {},
   "source": [
    "5. Calcule a média e a variância da renda da amostra. Depois faça a\n",
    " distribuição normal, inclua o gráfico"
   ]
  },
  {
   "cell_type": "code",
   "execution_count": null,
   "metadata": {},
   "outputs": [
    {
     "name": "stdout",
     "output_type": "stream",
     "text": [
      "Média da renda: 3082.54\n",
      "Variância da renda: 993156.23\n"
     ]
    }
   ],
   "source": [
    "# média e a variância da renda\n",
    "media_renda = df['renda'].mean()\n",
    "variancia_renda = df['renda'].var()\n",
    "print(f\"Média da renda: {media_renda:.2f}\")\n",
    "print(f\"Variância da renda: {variancia_renda:.2f}\")"
   ]
  },
  {
   "cell_type": "code",
   "execution_count": 105,
   "metadata": {},
   "outputs": [
    {
     "data": {
      "image/png": "[encoded data removed]",
      "text/plain": [
       "<Figure size 1000x600 with 1 Axes>"
      ]
     },
     "metadata": {},
     "output_type": "display_data"
    }
   ],
   "source": [
    "#distribuição normal\n",
    "x = np.linspace(df['renda'].min(), df['renda'].max(), 1000) \n",
    "y = norm.pdf(x, loc=media_renda, scale=np.sqrt(variancia_renda))  # Usar norm.pdf corretamente\n",
    "\n",
    "# histograma e a distribuição normal\n",
    "plt.figure(figsize=(10, 6))\n",
    "plt.hist(df['renda'], bins=30, density=True, alpha=0.6, color='skyblue', label='Histograma da Renda')\n",
    "plt.plot(x, y, color='red', label='Distribuição Normal')\n",
    "plt.title('Distribuição Normal da Renda')\n",
    "plt.xlabel('Renda (R$)')\n",
    "plt.ylabel('Densidade de Probabilidade')\n",
    "plt.legend()\n",
    "plt.show()"
   ]
  },
  {
   "cell_type": "markdown",
   "metadata": {},
   "source": [
    " 6. Primeiro considere a probabilidade encontrada no nosso conjunto de\n",
    " pessoas com escolaridade de pós-graduação. Considerando a amostra de\n",
    " população brasileira com 1 milhão de habitantes, qual a probabilidade de\n",
    " encontrarmos 243 mil pessoas com pós-graduação?"
   ]
  },
  {
   "cell_type": "code",
   "execution_count": null,
   "metadata": {},
   "outputs": [
    {
     "name": "stdout",
     "output_type": "stream",
     "text": [
      "Probabilidade de uma pessoa ter Pós-graduação: 25.30%\n",
      "Probabilidade de encontrar exatamente 243 mil pessoas com pós-graduação: 0.00000000\n"
     ]
    }
   ],
   "source": [
    "#probabilidade de uma pessoa ter pós-graduação\n",
    "pessoas_pos_graduadas = df[(df['escolaridade'] == 'Pós-graduação')]\n",
    "total_pos_graduadas = len(pessoas_pos_graduadas)\n",
    "probabilidade_pos_graduacao = total_pos_graduadas / total_pessoas\n",
    "print(f\"Probabilidade de uma pessoa ter Pós-graduação: {probabilidade_pos_graduacao:.2%}\")\n",
    "\n",
    "#distribuição binomial   [ P(X = k) = \\binom{n}{k} \\cdot p^k \\cdot (1-p)^{n-k} ]\n",
    "n = 1000000  #habitantes\n",
    "k = 243000  #pessoas com pós-graduação\n",
    "probabilidade = binom.pmf(k, n, probabilidade_pos_graduacao)\n",
    "print(f\"Probabilidade de encontrar exatamente 243 mil pessoas com pós-graduação: {probabilidade:.8f}\")"
   ]
  },
  {
   "cell_type": "markdown",
   "metadata": {},
   "source": [
    " 7. Somando as densidades nós temos a função de densida de acumulada.\n",
    " Considerando a coluna ‘Escolaridade’ faça a função de densidade\n",
    " acumulada discreta para cada nível de escolaridade."
   ]
  },
  {
   "cell_type": "code",
   "execution_count": null,
   "metadata": {},
   "outputs": [
    {
     "name": "stdout",
     "output_type": "stream",
     "text": [
      "               Frequência  Densidade (PDF)  Densidade Acumulada (CDF)\n",
      "escolaridade                                                         \n",
      "Fundamental           266            0.266                      0.266\n",
      "Pós-graduação         253            0.253                      0.519\n",
      "Superior              243            0.243                      0.762\n",
      "Médio                 238            0.238                      1.000\n"
     ]
    }
   ],
   "source": [
    "#frequência de cada nível de escolaridade\n",
    "frequencia = df['escolaridade'].value_counts()\n",
    "\n",
    "#densidade de probabilidade (PDF)\n",
    "densidade = frequencia / frequencia.sum()\n",
    "\n",
    "#densidade acumulada (CDF)\n",
    "densidade_acumulada = densidade.cumsum()\n",
    "\n",
    "#dataFrame para exibir os resultados\n",
    "resultado = pd.DataFrame({'Frequência': frequencia,'Densidade (PDF)': densidade,'Densidade Acumulada (CDF)': densidade_acumulada})\n",
    "print(resultado)"
   ]
  },
  {
   "cell_type": "markdown",
   "metadata": {},
   "source": [
    " 8. Qual a margem de erro amostral da proporção populacional\n",
    " considerando a proporção de pessoas com nível de inglês intermediário?"
   ]
  },
  {
   "cell_type": "code",
   "execution_count": 109,
   "metadata": {},
   "outputs": [
    {
     "name": "stdout",
     "output_type": "stream",
     "text": [
      "Proporção de pessoas com nível de inglês intermediário: 32.90%\n",
      "Margem de erro amostral (95% de confiança): 2.91%\n"
     ]
    }
   ],
   "source": [
    "#total de pessoas na amostra e  proporção de pessoas com nível de inglês intermediário\n",
    "n = len(df)\n",
    "p = len(df[df['nível de proficiência em inglês'] == 'Intermediário']) / n\n",
    "print(f\"Proporção de pessoas com nível de inglês intermediário: {p:.2%}\")\n",
    "\n",
    "#margem de erro\n",
    "z = 1.96 #valor crítico Z para 95% de confiança\n",
    "margem_erro = z * np.sqrt((p * (1 - p)) / n)\n",
    "print(f\"Margem de erro amostral (95% de confiança): {margem_erro:.2%}\")"
   ]
  },
  {
   "cell_type": "markdown",
   "metadata": {},
   "source": [
    "9. Calcula a renda da população. Qual a probabilidade de encontrar 60\n",
    " pessoas com uma renda mil reais superior à média?"
   ]
  },
  {
   "cell_type": "code",
   "execution_count": 110,
   "metadata": {},
   "outputs": [
    {
     "name": "stdout",
     "output_type": "stream",
     "text": [
      "Média da renda: 3082.54\n",
      "Proporção de pessoas com renda superior à média + 1000: 16.10%\n",
      "Probabilidade de encontrar exatamente 60 pessoas com renda superior à média + 1000: 0.00000000\n"
     ]
    }
   ],
   "source": [
    "#média da renda\n",
    "media_renda = df['renda'].mean()\n",
    "print(f\"Média da renda: {media_renda:.2f}\")\n",
    "\n",
    "#probabilidade usando a distribuição binomial\n",
    "p = len(df[df['renda'] > (media_renda + 1000)]) / len(df) #proporção de pessoas com renda superior à média + 1000\n",
    "n = len(df) # total de pessoas na amostra\n",
    "k = 60 #número de pessoas com renda superior à média + 1000\n",
    "probabilidade = binom.pmf(k, n, p)\n",
    "print(f\"Proporção de pessoas com renda superior à média + 1000: {p:.2%}\")\n",
    "print(f\"Probabilidade de encontrar exatamente 60 pessoas com renda superior à média + 1000: {probabilidade:.8f}\")"
   ]
  },
  {
   "cell_type": "markdown",
   "metadata": {},
   "source": [
    " 10. Qual é a probabilidade de escolhermos uma pessoa residente na região\n",
    " Sudeste que seja homem, tenha apenas ensino fundamental completo e\n",
    " possua renda mensal superior a 2 mil reais?"
   ]
  },
  {
   "cell_type": "code",
   "execution_count": 111,
   "metadata": {},
   "outputs": [
    {
     "name": "stdout",
     "output_type": "stream",
     "text": [
      "Total de pessoas no conjunto de dados: 1000\n",
      "Total de pessoas que atendem às condições: 0\n",
      "Probabilidade de escolher uma pessoa com essas características: 0.00%\n"
     ]
    }
   ],
   "source": [
    "# Total de pessoas no conjunto de dados e pessoas que atendem às condições\n",
    "total_pessoas = len(df)\n",
    "print(f\"Total de pessoas no conjunto de dados: {total_pessoas}\")\n",
    "\n",
    "pessoas_filtradas = df[(df['estado'] == 'SU') & (df['sexo'] == 'M') & (df['escolaridade'] == 'Fundamental completo') & (df['renda'] > 2000)]\n",
    "total_filtradas = len(pessoas_filtradas)\n",
    "print(f\"Total de pessoas que atendem às condições: {total_filtradas}\")\n",
    "\n",
    "#probabilidade\n",
    "probabilidade = total_filtradas / total_pessoas\n",
    "print(f\"Probabilidade de escolher uma pessoa com essas características: {probabilidade:.2%}\")"
   ]
  },
  {
   "cell_type": "code",
   "execution_count": null,
   "metadata": {},
   "outputs": [],
   "source": []
  }
 ],
 "metadata": {
  "kernelspec": {
   "display_name": "Python 3",
   "language": "python",
   "name": "python3"
  },
  "language_info": {
   "codemirror_mode": {
    "name": "ipython",
    "version": 3
   },
   "file_extension": ".py",
   "mimetype": "text/x-python",
   "name": "python",
   "nbconvert_exporter": "python",
   "pygments_lexer": "ipython3",
   "version": "3.11.9"
  }
 },
 "nbformat": 4,
 "nbformat_minor": 2
}
